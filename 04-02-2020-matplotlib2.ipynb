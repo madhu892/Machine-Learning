{
 "cells": [
  {
   "cell_type": "code",
   "execution_count": 9,
   "metadata": {},
   "outputs": [],
   "source": [
    "import pandas as pd\n",
    "import numpy as np\n",
    "import matplotlib.pyplot as plt\n",
    "%matplotlib inline"
   ]
  },
  {
   "cell_type": "code",
   "execution_count": 10,
   "metadata": {},
   "outputs": [
    {
     "data": {
      "text/html": [
       "<div>\n",
       "<style scoped>\n",
       "    .dataframe tbody tr th:only-of-type {\n",
       "        vertical-align: middle;\n",
       "    }\n",
       "\n",
       "    .dataframe tbody tr th {\n",
       "        vertical-align: top;\n",
       "    }\n",
       "\n",
       "    .dataframe thead th {\n",
       "        text-align: right;\n",
       "    }\n",
       "</style>\n",
       "<table border=\"1\" class=\"dataframe\">\n",
       "  <thead>\n",
       "    <tr style=\"text-align: right;\">\n",
       "      <th></th>\n",
       "      <th>Unnamed: 0</th>\n",
       "      <th>Ord_id</th>\n",
       "      <th>Prod_id</th>\n",
       "      <th>Ship_id</th>\n",
       "      <th>Cust_id</th>\n",
       "      <th>Sales</th>\n",
       "      <th>Discount</th>\n",
       "      <th>Order_Quantity</th>\n",
       "      <th>Profit</th>\n",
       "      <th>Shipping_Cost</th>\n",
       "      <th>...</th>\n",
       "      <th>Customer_Name</th>\n",
       "      <th>Province</th>\n",
       "      <th>Region</th>\n",
       "      <th>Customer_Segment</th>\n",
       "      <th>Order_ID_y</th>\n",
       "      <th>Ship_Mode</th>\n",
       "      <th>Ship_Date</th>\n",
       "      <th>Ship_Month</th>\n",
       "      <th>Ship_Year</th>\n",
       "      <th>Duration</th>\n",
       "    </tr>\n",
       "  </thead>\n",
       "  <tbody>\n",
       "    <tr>\n",
       "      <td>0</td>\n",
       "      <td>0</td>\n",
       "      <td>Ord_5446</td>\n",
       "      <td>Prod_16</td>\n",
       "      <td>SHP_7609</td>\n",
       "      <td>Cust_1818</td>\n",
       "      <td>136.81</td>\n",
       "      <td>0.01</td>\n",
       "      <td>23</td>\n",
       "      <td>-30.51</td>\n",
       "      <td>3.60</td>\n",
       "      <td>...</td>\n",
       "      <td>AARON BERGMAN</td>\n",
       "      <td>ALBERTA</td>\n",
       "      <td>WEST</td>\n",
       "      <td>CORPORATE</td>\n",
       "      <td>36262</td>\n",
       "      <td>REGULAR AIR</td>\n",
       "      <td>2010-07-28</td>\n",
       "      <td>7</td>\n",
       "      <td>2010</td>\n",
       "      <td>1 days 00:00:00.000000000</td>\n",
       "    </tr>\n",
       "    <tr>\n",
       "      <td>1</td>\n",
       "      <td>1</td>\n",
       "      <td>Ord_5446</td>\n",
       "      <td>Prod_4</td>\n",
       "      <td>SHP_7610</td>\n",
       "      <td>Cust_1818</td>\n",
       "      <td>4701.69</td>\n",
       "      <td>0.00</td>\n",
       "      <td>26</td>\n",
       "      <td>1148.90</td>\n",
       "      <td>2.50</td>\n",
       "      <td>...</td>\n",
       "      <td>AARON BERGMAN</td>\n",
       "      <td>ALBERTA</td>\n",
       "      <td>WEST</td>\n",
       "      <td>CORPORATE</td>\n",
       "      <td>36262</td>\n",
       "      <td>EXPRESS AIR</td>\n",
       "      <td>2010-07-27</td>\n",
       "      <td>7</td>\n",
       "      <td>2010</td>\n",
       "      <td>0 days 00:00:00.000000000</td>\n",
       "    </tr>\n",
       "    <tr>\n",
       "      <td>2</td>\n",
       "      <td>2</td>\n",
       "      <td>Ord_5446</td>\n",
       "      <td>Prod_6</td>\n",
       "      <td>SHP_7608</td>\n",
       "      <td>Cust_1818</td>\n",
       "      <td>164.02</td>\n",
       "      <td>0.03</td>\n",
       "      <td>23</td>\n",
       "      <td>-47.64</td>\n",
       "      <td>6.15</td>\n",
       "      <td>...</td>\n",
       "      <td>AARON BERGMAN</td>\n",
       "      <td>ALBERTA</td>\n",
       "      <td>WEST</td>\n",
       "      <td>CORPORATE</td>\n",
       "      <td>36262</td>\n",
       "      <td>EXPRESS AIR</td>\n",
       "      <td>2010-07-28</td>\n",
       "      <td>7</td>\n",
       "      <td>2010</td>\n",
       "      <td>1 days 00:00:00.000000000</td>\n",
       "    </tr>\n",
       "    <tr>\n",
       "      <td>3</td>\n",
       "      <td>3</td>\n",
       "      <td>Ord_5406</td>\n",
       "      <td>Prod_13</td>\n",
       "      <td>SHP_7549</td>\n",
       "      <td>Cust_1818</td>\n",
       "      <td>42.27</td>\n",
       "      <td>0.01</td>\n",
       "      <td>13</td>\n",
       "      <td>4.56</td>\n",
       "      <td>0.93</td>\n",
       "      <td>...</td>\n",
       "      <td>AARON BERGMAN</td>\n",
       "      <td>ALBERTA</td>\n",
       "      <td>WEST</td>\n",
       "      <td>CORPORATE</td>\n",
       "      <td>20513</td>\n",
       "      <td>EXPRESS AIR</td>\n",
       "      <td>2009-08-07</td>\n",
       "      <td>8</td>\n",
       "      <td>2009</td>\n",
       "      <td>31 days 00:00:00.000000000</td>\n",
       "    </tr>\n",
       "    <tr>\n",
       "      <td>4</td>\n",
       "      <td>4</td>\n",
       "      <td>Ord_5456</td>\n",
       "      <td>Prod_6</td>\n",
       "      <td>SHP_7625</td>\n",
       "      <td>Cust_1818</td>\n",
       "      <td>2337.89</td>\n",
       "      <td>0.09</td>\n",
       "      <td>43</td>\n",
       "      <td>729.34</td>\n",
       "      <td>14.30</td>\n",
       "      <td>...</td>\n",
       "      <td>AARON BERGMAN</td>\n",
       "      <td>ALBERTA</td>\n",
       "      <td>WEST</td>\n",
       "      <td>CORPORATE</td>\n",
       "      <td>39682</td>\n",
       "      <td>EXPRESS AIR</td>\n",
       "      <td>2010-11-11</td>\n",
       "      <td>11</td>\n",
       "      <td>2010</td>\n",
       "      <td>61 days 00:00:00.000000000</td>\n",
       "    </tr>\n",
       "  </tbody>\n",
       "</table>\n",
       "<p>5 rows × 28 columns</p>\n",
       "</div>"
      ],
      "text/plain": [
       "   Unnamed: 0    Ord_id  Prod_id   Ship_id    Cust_id    Sales  Discount  \\\n",
       "0           0  Ord_5446  Prod_16  SHP_7609  Cust_1818   136.81      0.01   \n",
       "1           1  Ord_5446   Prod_4  SHP_7610  Cust_1818  4701.69      0.00   \n",
       "2           2  Ord_5446   Prod_6  SHP_7608  Cust_1818   164.02      0.03   \n",
       "3           3  Ord_5406  Prod_13  SHP_7549  Cust_1818    42.27      0.01   \n",
       "4           4  Ord_5456   Prod_6  SHP_7625  Cust_1818  2337.89      0.09   \n",
       "\n",
       "   Order_Quantity   Profit  Shipping_Cost  ...  Customer_Name Province Region  \\\n",
       "0              23   -30.51           3.60  ...  AARON BERGMAN  ALBERTA   WEST   \n",
       "1              26  1148.90           2.50  ...  AARON BERGMAN  ALBERTA   WEST   \n",
       "2              23   -47.64           6.15  ...  AARON BERGMAN  ALBERTA   WEST   \n",
       "3              13     4.56           0.93  ...  AARON BERGMAN  ALBERTA   WEST   \n",
       "4              43   729.34          14.30  ...  AARON BERGMAN  ALBERTA   WEST   \n",
       "\n",
       "   Customer_Segment Order_ID_y    Ship_Mode   Ship_Date  Ship_Month Ship_Year  \\\n",
       "0         CORPORATE      36262  REGULAR AIR  2010-07-28           7      2010   \n",
       "1         CORPORATE      36262  EXPRESS AIR  2010-07-27           7      2010   \n",
       "2         CORPORATE      36262  EXPRESS AIR  2010-07-28           7      2010   \n",
       "3         CORPORATE      20513  EXPRESS AIR  2009-08-07           8      2009   \n",
       "4         CORPORATE      39682  EXPRESS AIR  2010-11-11          11      2010   \n",
       "\n",
       "                     Duration  \n",
       "0   1 days 00:00:00.000000000  \n",
       "1   0 days 00:00:00.000000000  \n",
       "2   1 days 00:00:00.000000000  \n",
       "3  31 days 00:00:00.000000000  \n",
       "4  61 days 00:00:00.000000000  \n",
       "\n",
       "[5 rows x 28 columns]"
      ]
     },
     "execution_count": 10,
     "metadata": {},
     "output_type": "execute_result"
    }
   ],
   "source": [
    "data = pd.read_csv(\"data/global_sales_data\\master.csv\")\n",
    "data.head()"
   ]
  },
  {
   "cell_type": "markdown",
   "metadata": {},
   "source": [
    "- Remove the column \"Unnamed:0\"\n",
    "- get the categorical column names\n",
    "- get the numerical columns\n",
    "- Replace the missing values in numerical columns with their mean\n",
    "- Draw the histogram of any one numerical column\n",
    "    - Place the title of the graph as \"Histogram\"\n",
    "    - On each bin print the count in that bin in the graph\n",
    "- Draw the boxplot of any one column\n",
    "- Create a subplot of (2,2).\n",
    "    -(2,2,1) is a histogram\n",
    "    -(2,2,2) is a boxplot\n",
    "- Create a Subplot caluculate the no of graphs required based on number of numerical columns.\n",
    "    - No of rows in the subplot equal to no of numerical columns\n",
    "    - The plot should contains two graphs in each row. \n",
    "        - First is histogram and \n",
    "        - the second one is boxplot\n",
    "    - Use figure size in plt.figure for proper graph size.\n",
    "- Create Barplot for a categorical column\n",
    "    - use the legend\n",
    "    - xlabel\n",
    "    - ylabel\n",
    "- Create a subplot for categorical column barplots"
   ]
  },
  {
   "cell_type": "code",
   "execution_count": 5,
   "metadata": {},
   "outputs": [
    {
     "ename": "KeyError",
     "evalue": "\"['Unnamed: 0'] not found in axis\"",
     "output_type": "error",
     "traceback": [
      "\u001b[1;31m---------------------------------------------------------------------------\u001b[0m",
      "\u001b[1;31mKeyError\u001b[0m                                  Traceback (most recent call last)",
      "\u001b[1;32m<ipython-input-5-7fdfda65c13b>\u001b[0m in \u001b[0;36m<module>\u001b[1;34m\u001b[0m\n\u001b[1;32m----> 1\u001b[1;33m \u001b[0mdata\u001b[0m\u001b[1;33m.\u001b[0m\u001b[0mdrop\u001b[0m\u001b[1;33m(\u001b[0m\u001b[1;34m'Unnamed: 0'\u001b[0m\u001b[1;33m,\u001b[0m\u001b[0maxis\u001b[0m\u001b[1;33m=\u001b[0m\u001b[1;36m1\u001b[0m\u001b[1;33m,\u001b[0m\u001b[0minplace\u001b[0m\u001b[1;33m=\u001b[0m\u001b[1;32mTrue\u001b[0m\u001b[1;33m)\u001b[0m\u001b[1;33m\u001b[0m\u001b[1;33m\u001b[0m\u001b[0m\n\u001b[0m\u001b[0;32m      2\u001b[0m \u001b[1;33m\u001b[0m\u001b[0m\n",
      "\u001b[1;32mC:\\ProgramData\\Anaconda3\\lib\\site-packages\\pandas\\core\\frame.py\u001b[0m in \u001b[0;36mdrop\u001b[1;34m(self, labels, axis, index, columns, level, inplace, errors)\u001b[0m\n\u001b[0;32m   4100\u001b[0m             \u001b[0mlevel\u001b[0m\u001b[1;33m=\u001b[0m\u001b[0mlevel\u001b[0m\u001b[1;33m,\u001b[0m\u001b[1;33m\u001b[0m\u001b[1;33m\u001b[0m\u001b[0m\n\u001b[0;32m   4101\u001b[0m             \u001b[0minplace\u001b[0m\u001b[1;33m=\u001b[0m\u001b[0minplace\u001b[0m\u001b[1;33m,\u001b[0m\u001b[1;33m\u001b[0m\u001b[1;33m\u001b[0m\u001b[0m\n\u001b[1;32m-> 4102\u001b[1;33m             \u001b[0merrors\u001b[0m\u001b[1;33m=\u001b[0m\u001b[0merrors\u001b[0m\u001b[1;33m,\u001b[0m\u001b[1;33m\u001b[0m\u001b[1;33m\u001b[0m\u001b[0m\n\u001b[0m\u001b[0;32m   4103\u001b[0m         )\n\u001b[0;32m   4104\u001b[0m \u001b[1;33m\u001b[0m\u001b[0m\n",
      "\u001b[1;32mC:\\ProgramData\\Anaconda3\\lib\\site-packages\\pandas\\core\\generic.py\u001b[0m in \u001b[0;36mdrop\u001b[1;34m(self, labels, axis, index, columns, level, inplace, errors)\u001b[0m\n\u001b[0;32m   3912\u001b[0m         \u001b[1;32mfor\u001b[0m \u001b[0maxis\u001b[0m\u001b[1;33m,\u001b[0m \u001b[0mlabels\u001b[0m \u001b[1;32min\u001b[0m \u001b[0maxes\u001b[0m\u001b[1;33m.\u001b[0m\u001b[0mitems\u001b[0m\u001b[1;33m(\u001b[0m\u001b[1;33m)\u001b[0m\u001b[1;33m:\u001b[0m\u001b[1;33m\u001b[0m\u001b[1;33m\u001b[0m\u001b[0m\n\u001b[0;32m   3913\u001b[0m             \u001b[1;32mif\u001b[0m \u001b[0mlabels\u001b[0m \u001b[1;32mis\u001b[0m \u001b[1;32mnot\u001b[0m \u001b[1;32mNone\u001b[0m\u001b[1;33m:\u001b[0m\u001b[1;33m\u001b[0m\u001b[1;33m\u001b[0m\u001b[0m\n\u001b[1;32m-> 3914\u001b[1;33m                 \u001b[0mobj\u001b[0m \u001b[1;33m=\u001b[0m \u001b[0mobj\u001b[0m\u001b[1;33m.\u001b[0m\u001b[0m_drop_axis\u001b[0m\u001b[1;33m(\u001b[0m\u001b[0mlabels\u001b[0m\u001b[1;33m,\u001b[0m \u001b[0maxis\u001b[0m\u001b[1;33m,\u001b[0m \u001b[0mlevel\u001b[0m\u001b[1;33m=\u001b[0m\u001b[0mlevel\u001b[0m\u001b[1;33m,\u001b[0m \u001b[0merrors\u001b[0m\u001b[1;33m=\u001b[0m\u001b[0merrors\u001b[0m\u001b[1;33m)\u001b[0m\u001b[1;33m\u001b[0m\u001b[1;33m\u001b[0m\u001b[0m\n\u001b[0m\u001b[0;32m   3915\u001b[0m \u001b[1;33m\u001b[0m\u001b[0m\n\u001b[0;32m   3916\u001b[0m         \u001b[1;32mif\u001b[0m \u001b[0minplace\u001b[0m\u001b[1;33m:\u001b[0m\u001b[1;33m\u001b[0m\u001b[1;33m\u001b[0m\u001b[0m\n",
      "\u001b[1;32mC:\\ProgramData\\Anaconda3\\lib\\site-packages\\pandas\\core\\generic.py\u001b[0m in \u001b[0;36m_drop_axis\u001b[1;34m(self, labels, axis, level, errors)\u001b[0m\n\u001b[0;32m   3944\u001b[0m                 \u001b[0mnew_axis\u001b[0m \u001b[1;33m=\u001b[0m \u001b[0maxis\u001b[0m\u001b[1;33m.\u001b[0m\u001b[0mdrop\u001b[0m\u001b[1;33m(\u001b[0m\u001b[0mlabels\u001b[0m\u001b[1;33m,\u001b[0m \u001b[0mlevel\u001b[0m\u001b[1;33m=\u001b[0m\u001b[0mlevel\u001b[0m\u001b[1;33m,\u001b[0m \u001b[0merrors\u001b[0m\u001b[1;33m=\u001b[0m\u001b[0merrors\u001b[0m\u001b[1;33m)\u001b[0m\u001b[1;33m\u001b[0m\u001b[1;33m\u001b[0m\u001b[0m\n\u001b[0;32m   3945\u001b[0m             \u001b[1;32melse\u001b[0m\u001b[1;33m:\u001b[0m\u001b[1;33m\u001b[0m\u001b[1;33m\u001b[0m\u001b[0m\n\u001b[1;32m-> 3946\u001b[1;33m                 \u001b[0mnew_axis\u001b[0m \u001b[1;33m=\u001b[0m \u001b[0maxis\u001b[0m\u001b[1;33m.\u001b[0m\u001b[0mdrop\u001b[0m\u001b[1;33m(\u001b[0m\u001b[0mlabels\u001b[0m\u001b[1;33m,\u001b[0m \u001b[0merrors\u001b[0m\u001b[1;33m=\u001b[0m\u001b[0merrors\u001b[0m\u001b[1;33m)\u001b[0m\u001b[1;33m\u001b[0m\u001b[1;33m\u001b[0m\u001b[0m\n\u001b[0m\u001b[0;32m   3947\u001b[0m             \u001b[0mresult\u001b[0m \u001b[1;33m=\u001b[0m \u001b[0mself\u001b[0m\u001b[1;33m.\u001b[0m\u001b[0mreindex\u001b[0m\u001b[1;33m(\u001b[0m\u001b[1;33m**\u001b[0m\u001b[1;33m{\u001b[0m\u001b[0maxis_name\u001b[0m\u001b[1;33m:\u001b[0m \u001b[0mnew_axis\u001b[0m\u001b[1;33m}\u001b[0m\u001b[1;33m)\u001b[0m\u001b[1;33m\u001b[0m\u001b[1;33m\u001b[0m\u001b[0m\n\u001b[0;32m   3948\u001b[0m \u001b[1;33m\u001b[0m\u001b[0m\n",
      "\u001b[1;32mC:\\ProgramData\\Anaconda3\\lib\\site-packages\\pandas\\core\\indexes\\base.py\u001b[0m in \u001b[0;36mdrop\u001b[1;34m(self, labels, errors)\u001b[0m\n\u001b[0;32m   5338\u001b[0m         \u001b[1;32mif\u001b[0m \u001b[0mmask\u001b[0m\u001b[1;33m.\u001b[0m\u001b[0many\u001b[0m\u001b[1;33m(\u001b[0m\u001b[1;33m)\u001b[0m\u001b[1;33m:\u001b[0m\u001b[1;33m\u001b[0m\u001b[1;33m\u001b[0m\u001b[0m\n\u001b[0;32m   5339\u001b[0m             \u001b[1;32mif\u001b[0m \u001b[0merrors\u001b[0m \u001b[1;33m!=\u001b[0m \u001b[1;34m\"ignore\"\u001b[0m\u001b[1;33m:\u001b[0m\u001b[1;33m\u001b[0m\u001b[1;33m\u001b[0m\u001b[0m\n\u001b[1;32m-> 5340\u001b[1;33m                 \u001b[1;32mraise\u001b[0m \u001b[0mKeyError\u001b[0m\u001b[1;33m(\u001b[0m\u001b[1;34m\"{} not found in axis\"\u001b[0m\u001b[1;33m.\u001b[0m\u001b[0mformat\u001b[0m\u001b[1;33m(\u001b[0m\u001b[0mlabels\u001b[0m\u001b[1;33m[\u001b[0m\u001b[0mmask\u001b[0m\u001b[1;33m]\u001b[0m\u001b[1;33m)\u001b[0m\u001b[1;33m)\u001b[0m\u001b[1;33m\u001b[0m\u001b[1;33m\u001b[0m\u001b[0m\n\u001b[0m\u001b[0;32m   5341\u001b[0m             \u001b[0mindexer\u001b[0m \u001b[1;33m=\u001b[0m \u001b[0mindexer\u001b[0m\u001b[1;33m[\u001b[0m\u001b[1;33m~\u001b[0m\u001b[0mmask\u001b[0m\u001b[1;33m]\u001b[0m\u001b[1;33m\u001b[0m\u001b[1;33m\u001b[0m\u001b[0m\n\u001b[0;32m   5342\u001b[0m         \u001b[1;32mreturn\u001b[0m \u001b[0mself\u001b[0m\u001b[1;33m.\u001b[0m\u001b[0mdelete\u001b[0m\u001b[1;33m(\u001b[0m\u001b[0mindexer\u001b[0m\u001b[1;33m)\u001b[0m\u001b[1;33m\u001b[0m\u001b[1;33m\u001b[0m\u001b[0m\n",
      "\u001b[1;31mKeyError\u001b[0m: \"['Unnamed: 0'] not found in axis\""
     ]
    }
   ],
   "source": [
    "data.drop('Unnamed: 0',axis=1,inplace=True)\n",
    "\n"
   ]
  },
  {
   "cell_type": "code",
   "execution_count": 5,
   "metadata": {},
   "outputs": [
    {
     "data": {
      "text/plain": [
       "Index(['Ord_id', 'Prod_id', 'Ship_id', 'Cust_id', 'Sales', 'Discount',\n",
       "       'Order_Quantity', 'Profit', 'Shipping_Cost', 'Product_Base_Margin',\n",
       "       'Product_Category', 'Product_Sub_Category', 'Order_ID_x', 'Order_Date',\n",
       "       'Order_Priority', 'Order_Month', 'Order_Year', 'Customer_Name',\n",
       "       'Province', 'Region', 'Customer_Segment', 'Order_ID_y', 'Ship_Mode',\n",
       "       'Ship_Date', 'Ship_Month', 'Ship_Year', 'Duration'],\n",
       "      dtype='object')"
      ]
     },
     "execution_count": 5,
     "metadata": {},
     "output_type": "execute_result"
    }
   ],
   "source": [
    "data.columns"
   ]
  },
  {
   "cell_type": "code",
   "execution_count": 6,
   "metadata": {},
   "outputs": [
    {
     "data": {
      "text/plain": [
       "Index(['Ord_id', 'Prod_id', 'Ship_id', 'Cust_id', 'Sales', 'Discount',\n",
       "       'Order_Quantity', 'Profit', 'Shipping_Cost', 'Product_Base_Margin',\n",
       "       'Product_Category', 'Product_Sub_Category', 'Order_ID_x', 'Order_Date',\n",
       "       'Order_Priority', 'Order_Month', 'Order_Year', 'Customer_Name',\n",
       "       'Province', 'Region', 'Customer_Segment', 'Order_ID_y', 'Ship_Mode',\n",
       "       'Ship_Date', 'Ship_Month', 'Ship_Year', 'Duration'],\n",
       "      dtype='object')"
      ]
     },
     "execution_count": 6,
     "metadata": {},
     "output_type": "execute_result"
    }
   ],
   "source": [
    "data.columns"
   ]
  },
  {
   "cell_type": "code",
   "execution_count": 7,
   "metadata": {},
   "outputs": [
    {
     "data": {
      "text/plain": [
       "Index(['Ord_id', 'Prod_id', 'Ship_id', 'Cust_id', 'Product_Category',\n",
       "       'Product_Sub_Category', 'Order_Date', 'Order_Priority', 'Customer_Name',\n",
       "       'Province', 'Region', 'Customer_Segment', 'Ship_Mode', 'Ship_Date',\n",
       "       'Duration'],\n",
       "      dtype='object')"
      ]
     },
     "execution_count": 7,
     "metadata": {},
     "output_type": "execute_result"
    }
   ],
   "source": [
    "cat_cols = data.columns[data.dtypes == object]\n",
    "cat_cols"
   ]
  },
  {
   "cell_type": "code",
   "execution_count": 8,
   "metadata": {},
   "outputs": [
    {
     "data": {
      "text/plain": [
       "Ord_id                   object\n",
       "Prod_id                  object\n",
       "Ship_id                  object\n",
       "Cust_id                  object\n",
       "Sales                   float64\n",
       "Discount                float64\n",
       "Order_Quantity            int64\n",
       "Profit                  float64\n",
       "Shipping_Cost           float64\n",
       "Product_Base_Margin     float64\n",
       "Product_Category         object\n",
       "Product_Sub_Category     object\n",
       "Order_ID_x                int64\n",
       "Order_Date               object\n",
       "Order_Priority           object\n",
       "Order_Month               int64\n",
       "Order_Year                int64\n",
       "Customer_Name            object\n",
       "Province                 object\n",
       "Region                   object\n",
       "Customer_Segment         object\n",
       "Order_ID_y                int64\n",
       "Ship_Mode                object\n",
       "Ship_Date                object\n",
       "Ship_Month                int64\n",
       "Ship_Year                 int64\n",
       "Duration                 object\n",
       "dtype: object"
      ]
     },
     "execution_count": 8,
     "metadata": {},
     "output_type": "execute_result"
    }
   ],
   "source": [
    "data.dtypes"
   ]
  },
  {
   "cell_type": "code",
   "execution_count": 9,
   "metadata": {},
   "outputs": [
    {
     "data": {
      "text/plain": [
       "Index(['Sales', 'Discount', 'Order_Quantity', 'Profit', 'Shipping_Cost',\n",
       "       'Product_Base_Margin', 'Order_ID_x', 'Order_Month', 'Order_Year',\n",
       "       'Order_ID_y', 'Ship_Month', 'Ship_Year'],\n",
       "      dtype='object')"
      ]
     },
     "execution_count": 9,
     "metadata": {},
     "output_type": "execute_result"
    }
   ],
   "source": [
    "num_cols = data.columns[data.dtypes != object]\n",
    "num_cols"
   ]
  },
  {
   "cell_type": "code",
   "execution_count": 10,
   "metadata": {},
   "outputs": [
    {
     "data": {
      "text/plain": [
       "Ord_id                   0\n",
       "Prod_id                  0\n",
       "Ship_id                  0\n",
       "Cust_id                  0\n",
       "Sales                    0\n",
       "Discount                 0\n",
       "Order_Quantity           0\n",
       "Profit                   0\n",
       "Shipping_Cost            0\n",
       "Product_Base_Margin     63\n",
       "Product_Category         0\n",
       "Product_Sub_Category     0\n",
       "Order_ID_x               0\n",
       "Order_Date               0\n",
       "Order_Priority           0\n",
       "Order_Month              0\n",
       "Order_Year               0\n",
       "Customer_Name            0\n",
       "Province                 0\n",
       "Region                   0\n",
       "Customer_Segment         0\n",
       "Order_ID_y               0\n",
       "Ship_Mode                0\n",
       "Ship_Date                0\n",
       "Ship_Month               0\n",
       "Ship_Year                0\n",
       "Duration                 0\n",
       "dtype: int64"
      ]
     },
     "execution_count": 10,
     "metadata": {},
     "output_type": "execute_result"
    }
   ],
   "source": [
    "data.isnull().sum()"
   ]
  },
  {
   "cell_type": "code",
   "execution_count": 11,
   "metadata": {},
   "outputs": [
    {
     "data": {
      "text/plain": [
       "0.5125131957773537"
      ]
     },
     "execution_count": 11,
     "metadata": {},
     "output_type": "execute_result"
    }
   ],
   "source": [
    "data.Product_Base_Margin.mean()"
   ]
  },
  {
   "cell_type": "code",
   "execution_count": 6,
   "metadata": {},
   "outputs": [
    {
     "data": {
      "text/plain": [
       "0       0.56\n",
       "1       0.59\n",
       "2       0.37\n",
       "3       0.54\n",
       "4       0.37\n",
       "        ... \n",
       "8394    0.64\n",
       "8395    0.68\n",
       "8396    0.52\n",
       "8397    0.46\n",
       "8398    0.41\n",
       "Name: Product_Base_Margin, Length: 8399, dtype: float64"
      ]
     },
     "execution_count": 6,
     "metadata": {},
     "output_type": "execute_result"
    }
   ],
   "source": [
    "data.Product_Base_Margin.fillna(\\\n",
    "    data.Product_Base_Margin.mean())"
   ]
  },
  {
   "cell_type": "code",
   "execution_count": 7,
   "metadata": {},
   "outputs": [],
   "source": [
    "mask = data.Product_Base_Margin.isnull()"
   ]
  },
  {
   "cell_type": "code",
   "execution_count": 8,
   "metadata": {},
   "outputs": [
    {
     "name": "stderr",
     "output_type": "stream",
     "text": [
      "C:\\ProgramData\\Anaconda3\\lib\\site-packages\\ipykernel_launcher.py:2: SettingWithCopyWarning: \n",
      "A value is trying to be set on a copy of a slice from a DataFrame\n",
      "\n",
      "See the caveats in the documentation: http://pandas.pydata.org/pandas-docs/stable/user_guide/indexing.html#returning-a-view-versus-a-copy\n",
      "  \n"
     ]
    }
   ],
   "source": [
    "data.Product_Base_Margin[mask] = \\\n",
    "        data.Product_Base_Margin.mean()"
   ]
  },
  {
   "cell_type": "code",
   "execution_count": 15,
   "metadata": {},
   "outputs": [
    {
     "data": {
      "text/plain": [
       "0"
      ]
     },
     "execution_count": 15,
     "metadata": {},
     "output_type": "execute_result"
    }
   ],
   "source": [
    "data.Product_Base_Margin.isnull().sum()"
   ]
  },
  {
   "cell_type": "code",
   "execution_count": 16,
   "metadata": {},
   "outputs": [
    {
     "data": {
      "text/plain": [
       "(array([8.047e+03, 2.580e+02, 7.800e+01, 1.300e+01, 1.000e+00, 1.000e+00,\n",
       "        0.000e+00, 0.000e+00, 0.000e+00, 1.000e+00]),\n",
       " array([2.2400000e+00, 8.9081210e+03, 1.7814002e+04, 2.6719883e+04,\n",
       "        3.5625764e+04, 4.4531645e+04, 5.3437526e+04, 6.2343407e+04,\n",
       "        7.1249288e+04, 8.0155169e+04, 8.9061050e+04]),\n",
       " <a list of 10 Patch objects>)"
      ]
     },
     "execution_count": 16,
     "metadata": {},
     "output_type": "execute_result"
    },
    {
     "data": {
      "image/png": "[encoded data removed]",
      "text/plain": [
       "<Figure size 432x288 with 1 Axes>"
      ]
     },
     "metadata": {
      "needs_background": "light"
     },
     "output_type": "display_data"
    }
   ],
   "source": [
    "plt.hist(data['Sales'])"
   ]
  },
  {
   "cell_type": "markdown",
   "metadata": {},
   "source": [
    "- Postively skewed Data\n",
    "- Negatively skewed data\n",
    "- Normal Distribution,Bell curve,Gaussian distribution\n",
    "- Zscore,tscore\n"
   ]
  },
  {
   "cell_type": "code",
   "execution_count": 17,
   "metadata": {},
   "outputs": [
    {
     "data": {
      "text/plain": [
       "(array([868., 847., 789., 816., 854., 827., 848., 825., 876., 849.]),\n",
       " array([ 1. ,  5.9, 10.8, 15.7, 20.6, 25.5, 30.4, 35.3, 40.2, 45.1, 50. ]),\n",
       " <a list of 10 Patch objects>)"
      ]
     },
     "execution_count": 17,
     "metadata": {},
     "output_type": "execute_result"
    },
    {
     "data": {
      "image/png": "[encoded data removed]",
      "text/plain": [
       "<Figure size 432x288 with 1 Axes>"
      ]
     },
     "metadata": {
      "needs_background": "light"
     },
     "output_type": "display_data"
    }
   ],
   "source": [
    "plt.hist(data['Order_Quantity'])"
   ]
  },
  {
   "cell_type": "code",
   "execution_count": 18,
   "metadata": {},
   "outputs": [
    {
     "data": {
      "image/png": "[encoded data removed]",
      "text/plain": [
       "<Figure size 432x288 with 1 Axes>"
      ]
     },
     "metadata": {
      "needs_background": "light"
     },
     "output_type": "display_data"
    }
   ],
   "source": [
    "hist_values = plt.hist(data['Order_Quantity'])\n",
    "x = hist_values[1]\n",
    "y = hist_values[0]\n",
    "'''for i in range(len(y)):\n",
    "    plt.text(x[i],y[i],y[i],color='r')'''\n",
    "for i,j in zip(x,y):\n",
    "    plt.text(i,j,j,color='r')\n",
    "    "
   ]
  },
  {
   "cell_type": "code",
   "execution_count": 19,
   "metadata": {},
   "outputs": [
    {
     "data": {
      "text/plain": [
       "[(1.0, 868.0),\n",
       " (5.9, 847.0),\n",
       " (10.8, 789.0),\n",
       " (15.700000000000001, 816.0),\n",
       " (20.6, 854.0),\n",
       " (25.5, 827.0),\n",
       " (30.400000000000002, 848.0),\n",
       " (35.300000000000004, 825.0),\n",
       " (40.2, 876.0),\n",
       " (45.1, 849.0)]"
      ]
     },
     "execution_count": 19,
     "metadata": {},
     "output_type": "execute_result"
    }
   ],
   "source": [
    "list(zip(x,y))"
   ]
  },
  {
   "cell_type": "code",
   "execution_count": 20,
   "metadata": {},
   "outputs": [
    {
     "data": {
      "text/plain": [
       "(array([  20.,  155.,  547., 1497., 1963., 1671., 1420.,  870.,  252.,\n",
       "           4.]),\n",
       " array([ 0.80647587,  1.86553602,  2.92459617,  3.98365632,  5.04271647,\n",
       "         6.10177662,  7.16083677,  8.21989692,  9.27895707, 10.33801722,\n",
       "        11.39707737]),\n",
       " <a list of 10 Patch objects>)"
      ]
     },
     "execution_count": 20,
     "metadata": {},
     "output_type": "execute_result"
    },
    {
     "data": {
      "image/png": "[encoded data removed]",
      "text/plain": [
       "<Figure size 432x288 with 1 Axes>"
      ]
     },
     "metadata": {
      "needs_background": "light"
     },
     "output_type": "display_data"
    }
   ],
   "source": [
    "plt.hist(np.log(data['Sales']))"
   ]
  },
  {
   "cell_type": "code",
   "execution_count": 21,
   "metadata": {},
   "outputs": [
    {
     "data": {
      "text/plain": [
       "{'whiskers': [<matplotlib.lines.Line2D at 0xaf97d11f88>,\n",
       "  <matplotlib.lines.Line2D at 0xaf97d11e08>],\n",
       " 'caps': [<matplotlib.lines.Line2D at 0xaf97d17848>,\n",
       "  <matplotlib.lines.Line2D at 0xaf97d1bc48>],\n",
       " 'boxes': [<matplotlib.lines.Line2D at 0xaf97d116c8>],\n",
       " 'medians': [<matplotlib.lines.Line2D at 0xaf97d1b988>],\n",
       " 'fliers': [<matplotlib.lines.Line2D at 0xaf97d1fd48>],\n",
       " 'means': []}"
      ]
     },
     "execution_count": 21,
     "metadata": {},
     "output_type": "execute_result"
    },
    {
     "data": {
      "image/png": "[encoded data removed]",
      "text/plain": [
       "<Figure size 432x288 with 1 Axes>"
      ]
     },
     "metadata": {
      "needs_background": "light"
     },
     "output_type": "display_data"
    }
   ],
   "source": [
    "plt.boxplot(data['Order_Quantity'])"
   ]
  },
  {
   "cell_type": "code",
   "execution_count": 22,
   "metadata": {},
   "outputs": [
    {
     "data": {
      "text/plain": [
       "{'whiskers': [<matplotlib.lines.Line2D at 0xaf97d7e8c8>,\n",
       "  <matplotlib.lines.Line2D at 0xaf97d7ef48>],\n",
       " 'caps': [<matplotlib.lines.Line2D at 0xaf97d7efc8>,\n",
       "  <matplotlib.lines.Line2D at 0xaf97d83fc8>],\n",
       " 'boxes': [<matplotlib.lines.Line2D at 0xaf97d79dc8>],\n",
       " 'medians': [<matplotlib.lines.Line2D at 0xaf97d83f88>],\n",
       " 'fliers': [<matplotlib.lines.Line2D at 0xaf97d87fc8>],\n",
       " 'means': []}"
      ]
     },
     "execution_count": 22,
     "metadata": {},
     "output_type": "execute_result"
    },
    {
     "data": {
      "image/png": "[encoded data removed]",
      "text/plain": [
       "<Figure size 432x288 with 1 Axes>"
      ]
     },
     "metadata": {
      "needs_background": "light"
     },
     "output_type": "display_data"
    }
   ],
   "source": [
    "plt.boxplot(data['Sales'])"
   ]
  },
  {
   "cell_type": "code",
   "execution_count": 23,
   "metadata": {},
   "outputs": [
    {
     "data": {
      "text/plain": [
       "{'whiskers': [<matplotlib.lines.Line2D at 0xaf97de29c8>,\n",
       "  <matplotlib.lines.Line2D at 0xaf97de2b48>],\n",
       " 'caps': [<matplotlib.lines.Line2D at 0xaf97de7988>,\n",
       "  <matplotlib.lines.Line2D at 0xaf97de7fc8>],\n",
       " 'boxes': [<matplotlib.lines.Line2D at 0xaf97ddbf08>],\n",
       " 'medians': [<matplotlib.lines.Line2D at 0xaf97deb908>],\n",
       " 'fliers': [<matplotlib.lines.Line2D at 0xaf97debf48>],\n",
       " 'means': []}"
      ]
     },
     "execution_count": 23,
     "metadata": {},
     "output_type": "execute_result"
    },
    {
     "data": {
      "image/png": "[encoded data removed]",
      "text/plain": [
       "<Figure size 432x288 with 1 Axes>"
      ]
     },
     "metadata": {
      "needs_background": "light"
     },
     "output_type": "display_data"
    }
   ],
   "source": [
    "plt.boxplot(np.log(data['Sales']))"
   ]
  },
  {
   "cell_type": "code",
   "execution_count": 24,
   "metadata": {},
   "outputs": [
    {
     "data": {
      "text/plain": [
       "{'whiskers': [<matplotlib.lines.Line2D at 0xaf97e9b648>,\n",
       "  <matplotlib.lines.Line2D at 0xaf97e9be08>],\n",
       " 'caps': [<matplotlib.lines.Line2D at 0xaf97e9bf88>,\n",
       "  <matplotlib.lines.Line2D at 0xaf97ea0e08>],\n",
       " 'boxes': [<matplotlib.lines.Line2D at 0xaf97e97b88>],\n",
       " 'medians': [<matplotlib.lines.Line2D at 0xaf97ea0fc8>],\n",
       " 'fliers': [<matplotlib.lines.Line2D at 0xaf97ea4f08>],\n",
       " 'means': []}"
      ]
     },
     "execution_count": 24,
     "metadata": {},
     "output_type": "execute_result"
    },
    {
     "data": {
      "image/png": "[encoded data removed]",
      "text/plain": [
       "<Figure size 432x288 with 2 Axes>"
      ]
     },
     "metadata": {
      "needs_background": "light"
     },
     "output_type": "display_data"
    }
   ],
   "source": [
    "plt.subplot(1,2,1)\n",
    "plt.hist(data['Order_Quantity'])\n",
    "plt.subplot(1,2,2)\n",
    "plt.boxplot(data['Order_Quantity'])\n"
   ]
  },
  {
   "cell_type": "code",
   "execution_count": 25,
   "metadata": {},
   "outputs": [
    {
     "name": "stdout",
     "output_type": "stream",
     "text": [
      "Help on function subplots_adjust in module matplotlib.pyplot:\n",
      "\n",
      "subplots_adjust(left=None, bottom=None, right=None, top=None, wspace=None, hspace=None)\n",
      "    Tune the subplot layout.\n",
      "    \n",
      "    The parameter meanings (and suggested defaults) are::\n",
      "    \n",
      "      left = 0.125  # the left side of the subplots of the figure\n",
      "      right = 0.9   # the right side of the subplots of the figure\n",
      "      bottom = 0.1  # the bottom of the subplots of the figure\n",
      "      top = 0.9     # the top of the subplots of the figure\n",
      "      wspace = 0.2  # the amount of width reserved for space between subplots,\n",
      "                    # expressed as a fraction of the average axis width\n",
      "      hspace = 0.2  # the amount of height reserved for space between subplots,\n",
      "                    # expressed as a fraction of the average axis height\n",
      "    \n",
      "    The actual defaults are controlled by the rc file\n",
      "\n"
     ]
    }
   ],
   "source": [
    "help(plt.subplots_adjust)"
   ]
  },
  {
   "cell_type": "code",
   "execution_count": 26,
   "metadata": {},
   "outputs": [
    {
     "data": {
      "image/png": "[encoded data removed]",
      "text/plain": [
       "<Figure size 360x2520 with 24 Axes>"
      ]
     },
     "metadata": {
      "needs_background": "light"
     },
     "output_type": "display_data"
    }
   ],
   "source": [
    "plt.figure(figsize=(5,35))\n",
    "plt.subplots_adjust(hspace=0.5)\n",
    "for i in range(len(num_cols)):\n",
    "    plt.subplot(12,2,2*i + 1)\n",
    "    plt.hist(data[num_cols[i]])\n",
    "    plt.title(num_cols[i]+' Histogram')\n",
    "    plt.subplot(12,2,2*i+2)\n",
    "    plt.boxplot(data[num_cols[i]])"
   ]
  },
  {
   "cell_type": "code",
   "execution_count": 27,
   "metadata": {},
   "outputs": [
    {
     "data": {
      "text/plain": [
       "Text(0, 0.5, 'Counts')"
      ]
     },
     "execution_count": 27,
     "metadata": {},
     "output_type": "execute_result"
    },
    {
     "data": {
      "image/png": "[encoded data removed]",
      "text/plain": [
       "<Figure size 432x288 with 1 Axes>"
      ]
     },
     "metadata": {
      "needs_background": "light"
     },
     "output_type": "display_data"
    }
   ],
   "source": [
    "y = data['Order_Priority'].value_counts()\n",
    "x= y.index\n",
    "plt.bar(x,y,color='rgbyc')\n",
    "handles = \\\n",
    "[plt.Rectangle((0,0),1,1,color=i)for i in 'rgbyc']\n",
    "plt.legend(handles,x,loc='upper center')\n",
    "plt.xlabel(\"Order Priority\")\n",
    "plt.ylabel(\"Counts\")"
   ]
  },
  {
   "cell_type": "code",
   "execution_count": 28,
   "metadata": {},
   "outputs": [
    {
     "name": "stdout",
     "output_type": "stream",
     "text": [
      "Help on class Rectangle in module matplotlib.patches:\n",
      "\n",
      "class Rectangle(Patch)\n",
      " |  Rectangle(xy, width, height, angle=0.0, **kwargs)\n",
      " |  \n",
      " |  A rectangle with lower left at *xy* = (*x*, *y*) with\n",
      " |  specified *width*, *height* and rotation *angle*.\n",
      " |  \n",
      " |  Method resolution order:\n",
      " |      Rectangle\n",
      " |      Patch\n",
      " |      matplotlib.artist.Artist\n",
      " |      builtins.object\n",
      " |  \n",
      " |  Methods defined here:\n",
      " |  \n",
      " |  __init__(self, xy, width, height, angle=0.0, **kwargs)\n",
      " |      Parameters\n",
      " |      ----------\n",
      " |      xy : (float, float)\n",
      " |          The bottom and left rectangle coordinates\n",
      " |      width : float\n",
      " |          Rectangle width\n",
      " |      height : float\n",
      " |          Rectangle height\n",
      " |      angle : float, optional\n",
      " |        rotation in degrees anti-clockwise about *xy* (default is 0.0)\n",
      " |      fill : bool, optional\n",
      " |          Whether to fill the rectangle (default is ``True``)\n",
      " |      \n",
      " |      Notes\n",
      " |      -----\n",
      " |      Valid kwargs are:\n",
      " |        agg_filter: a filter function, which takes a (m, n, 3) float array and a dpi value, and returns a (m, n, 3) array\n",
      " |        alpha: float or None\n",
      " |        animated: bool\n",
      " |        antialiased or aa: unknown\n",
      " |        capstyle: {'butt', 'round', 'projecting'}\n",
      " |        clip_box: `.Bbox`\n",
      " |        clip_on: bool\n",
      " |        clip_path: [(`~matplotlib.path.Path`, `.Transform`) | `.Patch` | None]\n",
      " |        color: color\n",
      " |        contains: callable\n",
      " |        edgecolor or ec: color or None or 'auto'\n",
      " |        facecolor or fc: color or None\n",
      " |        figure: `.Figure`\n",
      " |        fill: bool\n",
      " |        gid: str\n",
      " |        hatch: {'/', '\\\\', '|', '-', '+', 'x', 'o', 'O', '.', '*'}\n",
      " |        in_layout: bool\n",
      " |        joinstyle: {'miter', 'round', 'bevel'}\n",
      " |        label: object\n",
      " |        linestyle or ls: {'-', '--', '-.', ':', '', (offset, on-off-seq), ...}\n",
      " |        linewidth or lw: float or None\n",
      " |        path_effects: `.AbstractPathEffect`\n",
      " |        picker: None or bool or float or callable\n",
      " |        rasterized: bool or None\n",
      " |        sketch_params: (scale: float, length: float, randomness: float)\n",
      " |        snap: bool or None\n",
      " |        transform: `.Transform`\n",
      " |        url: str\n",
      " |        visible: bool\n",
      " |        zorder: float\n",
      " |  \n",
      " |  __str__(self)\n",
      " |      Return str(self).\n",
      " |  \n",
      " |  get_bbox(self)\n",
      " |  \n",
      " |  get_height(self)\n",
      " |      Return the height of the rectangle.\n",
      " |  \n",
      " |  get_patch_transform(self)\n",
      " |      Return the :class:`~matplotlib.transforms.Transform` instance which\n",
      " |      takes patch coordinates to data coordinates.\n",
      " |      \n",
      " |      For example, one may define a patch of a circle which represents a\n",
      " |      radius of 5 by providing coordinates for a unit circle, and a\n",
      " |      transform which scales the coordinates (the patch coordinate) by 5.\n",
      " |  \n",
      " |  get_path(self)\n",
      " |      Return the vertices of the rectangle.\n",
      " |  \n",
      " |  get_width(self)\n",
      " |      Return the width of the rectangle.\n",
      " |  \n",
      " |  get_x(self)\n",
      " |      Return the left coord of the rectangle.\n",
      " |  \n",
      " |  get_xy(self)\n",
      " |      Return the left and bottom coords of the rectangle.\n",
      " |  \n",
      " |  get_y(self)\n",
      " |      Return the bottom coord of the rectangle.\n",
      " |  \n",
      " |  set_bounds(self, *args)\n",
      " |      Set the bounds of the rectangle: l,b,w,h\n",
      " |      \n",
      " |      ACCEPTS: (left, bottom, width, height)\n",
      " |  \n",
      " |  set_height(self, h)\n",
      " |      Set the height of the rectangle.\n",
      " |  \n",
      " |  set_width(self, w)\n",
      " |      Set the width of the rectangle.\n",
      " |  \n",
      " |  set_x(self, x)\n",
      " |      Set the left coord of the rectangle.\n",
      " |  \n",
      " |  set_xy(self, xy)\n",
      " |      Set the left and bottom coords of the rectangle.\n",
      " |      \n",
      " |      Parameters\n",
      " |      ----------\n",
      " |      xy : (float, float)\n",
      " |  \n",
      " |  set_y(self, y)\n",
      " |      Set the bottom coord of the rectangle.\n",
      " |  \n",
      " |  ----------------------------------------------------------------------\n",
      " |  Data descriptors defined here:\n",
      " |  \n",
      " |  xy\n",
      " |      Return the left and bottom coords of the rectangle.\n",
      " |  \n",
      " |  ----------------------------------------------------------------------\n",
      " |  Methods inherited from Patch:\n",
      " |  \n",
      " |  contains(self, mouseevent, radius=None)\n",
      " |      Test whether the mouse event occurred in the patch.\n",
      " |      \n",
      " |      Returns\n",
      " |      -------\n",
      " |      (bool, empty dict)\n",
      " |  \n",
      " |  contains_point(self, point, radius=None)\n",
      " |      Returns ``True`` if the given *point* is inside the path\n",
      " |      (transformed with its transform attribute).\n",
      " |      \n",
      " |      *radius* allows the path to be made slightly larger or smaller.\n",
      " |  \n",
      " |  contains_points(self, points, radius=None)\n",
      " |      Returns a bool array which is ``True`` if the (closed) path\n",
      " |      contains the corresponding point.\n",
      " |      (transformed with its transform attribute).\n",
      " |      \n",
      " |      *points* must be Nx2 array.\n",
      " |      *radius* allows the path to be made slightly larger or smaller.\n",
      " |  \n",
      " |  draw(self, renderer)\n",
      " |      Draw the :class:`Patch` to the given *renderer*.\n",
      " |  \n",
      " |  get_aa(self)\n",
      " |      Alias for `get_antialiased`.\n",
      " |  \n",
      " |  get_antialiased(self)\n",
      " |      Returns True if the :class:`Patch` is to be drawn with antialiasing.\n",
      " |  \n",
      " |  get_capstyle(self)\n",
      " |      Return the current capstyle\n",
      " |  \n",
      " |  get_data_transform(self)\n",
      " |      Return the :class:`~matplotlib.transforms.Transform` instance which\n",
      " |      maps data coordinates to physical coordinates.\n",
      " |  \n",
      " |  get_ec(self)\n",
      " |      Alias for `get_edgecolor`.\n",
      " |  \n",
      " |  get_edgecolor(self)\n",
      " |      Return the edge color of the :class:`Patch`.\n",
      " |  \n",
      " |  get_extents(self)\n",
      " |      Return a :class:`~matplotlib.transforms.Bbox` object defining\n",
      " |      the axis-aligned extents of the :class:`Patch`.\n",
      " |  \n",
      " |  get_facecolor(self)\n",
      " |      Return the face color of the :class:`Patch`.\n",
      " |  \n",
      " |  get_fc(self)\n",
      " |      Alias for `get_facecolor`.\n",
      " |  \n",
      " |  get_fill(self)\n",
      " |      return whether fill is set\n",
      " |  \n",
      " |  get_hatch(self)\n",
      " |      Return the current hatching pattern\n",
      " |  \n",
      " |  get_joinstyle(self)\n",
      " |      Return the current joinstyle\n",
      " |  \n",
      " |  get_linestyle(self)\n",
      " |      Return the linestyle.\n",
      " |  \n",
      " |  get_linewidth(self)\n",
      " |      Return the line width in points.\n",
      " |  \n",
      " |  get_ls(self)\n",
      " |      Alias for `get_linestyle`.\n",
      " |  \n",
      " |  get_lw(self)\n",
      " |      Alias for `get_linewidth`.\n",
      " |  \n",
      " |  get_transform(self)\n",
      " |      Return the :class:`~matplotlib.transforms.Transform` applied\n",
      " |      to the :class:`Patch`.\n",
      " |  \n",
      " |  get_verts(self)\n",
      " |      Return a copy of the vertices used in this patch\n",
      " |      \n",
      " |      If the patch contains Bezier curves, the curves will be\n",
      " |      interpolated by line segments.  To access the curves as\n",
      " |      curves, use :meth:`get_path`.\n",
      " |  \n",
      " |  get_window_extent(self, renderer=None)\n",
      " |      Get the axes bounding box in display space.\n",
      " |      \n",
      " |      The bounding box' width and height are nonnegative.\n",
      " |      \n",
      " |      Subclasses should override for inclusion in the bounding box\n",
      " |      \"tight\" calculation. Default is to return an empty bounding\n",
      " |      box at 0, 0.\n",
      " |      \n",
      " |      Be careful when using this function, the results will not update\n",
      " |      if the artist window extent of the artist changes.  The extent\n",
      " |      can change due to any changes in the transform stack, such as\n",
      " |      changing the axes limits, the figure size, or the canvas used\n",
      " |      (as is done when saving a figure).  This can lead to unexpected\n",
      " |      behavior where interactive figures will look fine on the screen,\n",
      " |      but will save incorrectly.\n",
      " |  \n",
      " |  set_aa(self, aa)\n",
      " |      Alias for `set_antialiased`.\n",
      " |  \n",
      " |  set_alpha(self, alpha)\n",
      " |      Set the alpha transparency of the patch.\n",
      " |      \n",
      " |      Parameters\n",
      " |      ----------\n",
      " |      alpha : float or None\n",
      " |  \n",
      " |  set_antialiased(self, aa)\n",
      " |      Set whether to use antialiased rendering.\n",
      " |      \n",
      " |      Parameters\n",
      " |      ----------\n",
      " |      b : bool or None\n",
      " |  \n",
      " |  set_capstyle(self, s)\n",
      " |      Set the patch capstyle\n",
      " |      \n",
      " |      Parameters\n",
      " |      ----------\n",
      " |      s : {'butt', 'round', 'projecting'}\n",
      " |  \n",
      " |  set_color(self, c)\n",
      " |      Set both the edgecolor and the facecolor.\n",
      " |      \n",
      " |      Parameters\n",
      " |      ----------\n",
      " |      c : color\n",
      " |      \n",
      " |      See Also\n",
      " |      --------\n",
      " |      Patch.set_facecolor, Patch.set_edgecolor\n",
      " |          For setting the edge or face color individually.\n",
      " |  \n",
      " |  set_ec(self, color)\n",
      " |      Alias for `set_edgecolor`.\n",
      " |  \n",
      " |  set_edgecolor(self, color)\n",
      " |      Set the patch edge color.\n",
      " |      \n",
      " |      Parameters\n",
      " |      ----------\n",
      " |      color : color or None or 'auto'\n",
      " |  \n",
      " |  set_facecolor(self, color)\n",
      " |      Set the patch face color.\n",
      " |      \n",
      " |      Parameters\n",
      " |      ----------\n",
      " |      color : color or None\n",
      " |  \n",
      " |  set_fc(self, color)\n",
      " |      Alias for `set_facecolor`.\n",
      " |  \n",
      " |  set_fill(self, b)\n",
      " |      Set whether to fill the patch.\n",
      " |      \n",
      " |      Parameters\n",
      " |      ----------\n",
      " |      b : bool\n",
      " |  \n",
      " |  set_hatch(self, hatch)\n",
      " |      Set the hatching pattern\n",
      " |      \n",
      " |      *hatch* can be one of::\n",
      " |      \n",
      " |        /   - diagonal hatching\n",
      " |        \\   - back diagonal\n",
      " |        |   - vertical\n",
      " |        -   - horizontal\n",
      " |        +   - crossed\n",
      " |        x   - crossed diagonal\n",
      " |        o   - small circle\n",
      " |        O   - large circle\n",
      " |        .   - dots\n",
      " |        *   - stars\n",
      " |      \n",
      " |      Letters can be combined, in which case all the specified\n",
      " |      hatchings are done.  If same letter repeats, it increases the\n",
      " |      density of hatching of that pattern.\n",
      " |      \n",
      " |      Hatching is supported in the PostScript, PDF, SVG and Agg\n",
      " |      backends only.\n",
      " |      \n",
      " |      Parameters\n",
      " |      ----------\n",
      " |      hatch : {'/', '\\\\', '|', '-', '+', 'x', 'o', 'O', '.', '*'}\n",
      " |  \n",
      " |  set_joinstyle(self, s)\n",
      " |      Set the patch joinstyle\n",
      " |      \n",
      " |      Parameters\n",
      " |      ----------\n",
      " |      s : {'miter', 'round', 'bevel'}\n",
      " |  \n",
      " |  set_linestyle(self, ls)\n",
      " |      Set the patch linestyle.\n",
      " |      \n",
      " |      ===========================   =================\n",
      " |      linestyle                     description\n",
      " |      ===========================   =================\n",
      " |      ``'-'`` or ``'solid'``        solid line\n",
      " |      ``'--'`` or  ``'dashed'``     dashed line\n",
      " |      ``'-.'`` or  ``'dashdot'``    dash-dotted line\n",
      " |      ``':'`` or ``'dotted'``       dotted line\n",
      " |      ===========================   =================\n",
      " |      \n",
      " |      Alternatively a dash tuple of the following form can be provided::\n",
      " |      \n",
      " |          (offset, onoffseq),\n",
      " |      \n",
      " |      where ``onoffseq`` is an even length tuple of on and off ink in points.\n",
      " |      \n",
      " |      Parameters\n",
      " |      ----------\n",
      " |      ls : {'-', '--', '-.', ':', '', (offset, on-off-seq), ...}\n",
      " |          The line style.\n",
      " |  \n",
      " |  set_linewidth(self, w)\n",
      " |      Set the patch linewidth in points.\n",
      " |      \n",
      " |      Parameters\n",
      " |      ----------\n",
      " |      w : float or None\n",
      " |  \n",
      " |  set_ls(self, ls)\n",
      " |      Alias for `set_linestyle`.\n",
      " |  \n",
      " |  set_lw(self, w)\n",
      " |      Alias for `set_linewidth`.\n",
      " |  \n",
      " |  update_from(self, other)\n",
      " |      Updates this :class:`Patch` from the properties of *other*.\n",
      " |  \n",
      " |  ----------------------------------------------------------------------\n",
      " |  Data descriptors inherited from Patch:\n",
      " |  \n",
      " |  fill\n",
      " |      return whether fill is set\n",
      " |  \n",
      " |  ----------------------------------------------------------------------\n",
      " |  Data and other attributes inherited from Patch:\n",
      " |  \n",
      " |  validCap = ('butt', 'round', 'projecting')\n",
      " |  \n",
      " |  validJoin = ('miter', 'round', 'bevel')\n",
      " |  \n",
      " |  zorder = 1\n",
      " |  \n",
      " |  ----------------------------------------------------------------------\n",
      " |  Methods inherited from matplotlib.artist.Artist:\n",
      " |  \n",
      " |  __getstate__(self)\n",
      " |  \n",
      " |  add_callback(self, func)\n",
      " |      Add a callback function that will be called whenever one of the\n",
      " |      `.Artist`'s properties changes.\n",
      " |      \n",
      " |      Parameters\n",
      " |      ----------\n",
      " |      func : callable\n",
      " |          The callback function. It must have the signature::\n",
      " |      \n",
      " |              def func(artist: Artist) -> Any\n",
      " |      \n",
      " |          where *artist* is the calling `.Artist`. Return values may exist\n",
      " |          but are ignored.\n",
      " |      \n",
      " |      Returns\n",
      " |      -------\n",
      " |      oid : int\n",
      " |          The observer id associated with the callback. This id can be\n",
      " |          used for removing the callback with `.remove_callback` later.\n",
      " |      \n",
      " |      See Also\n",
      " |      --------\n",
      " |      remove_callback\n",
      " |  \n",
      " |  convert_xunits(self, x)\n",
      " |      Convert *x* using the unit type of the xaxis.\n",
      " |      \n",
      " |      If the artist is not in contained in an Axes or if the xaxis does not\n",
      " |      have units, *x* itself is returned.\n",
      " |  \n",
      " |  convert_yunits(self, y)\n",
      " |      Convert *y* using the unit type of the yaxis.\n",
      " |      \n",
      " |      If the artist is not in contained in an Axes or if the yaxis does not\n",
      " |      have units, *y* itself is returned.\n",
      " |  \n",
      " |  findobj(self, match=None, include_self=True)\n",
      " |      Find artist objects.\n",
      " |      \n",
      " |      Recursively find all `.Artist` instances contained in the artist.\n",
      " |      \n",
      " |      Parameters\n",
      " |      ----------\n",
      " |      match\n",
      " |          A filter criterion for the matches. This can be\n",
      " |      \n",
      " |          - *None*: Return all objects contained in artist.\n",
      " |          - A function with signature ``def match(artist: Artist) -> bool``.\n",
      " |            The result will only contain artists for which the function\n",
      " |            returns *True*.\n",
      " |          - A class instance: e.g., `.Line2D`. The result will only contain\n",
      " |            artists of this class or its subclasses (``isinstance`` check).\n",
      " |      \n",
      " |      include_self : bool\n",
      " |          Include *self* in the list to be checked for a match.\n",
      " |      \n",
      " |      Returns\n",
      " |      -------\n",
      " |      artists : list of `.Artist`\n",
      " |  \n",
      " |  format_cursor_data(self, data)\n",
      " |      Return a string representation of *data*.\n",
      " |      \n",
      " |      .. note::\n",
      " |          This method is intended to be overridden by artist subclasses.\n",
      " |          As an end-user of Matplotlib you will most likely not call this\n",
      " |          method yourself.\n",
      " |      \n",
      " |      The default implementation converts ints and floats and arrays of ints\n",
      " |      and floats into a comma-separated string enclosed in square brackets.\n",
      " |      \n",
      " |      See Also\n",
      " |      --------\n",
      " |      get_cursor_data\n",
      " |  \n",
      " |  get_agg_filter(self)\n",
      " |      Return filter function to be used for agg filter.\n",
      " |  \n",
      " |  get_alpha(self)\n",
      " |      Return the alpha value used for blending - not supported on all\n",
      " |      backends\n",
      " |  \n",
      " |  get_animated(self)\n",
      " |      Return the animated state.\n",
      " |  \n",
      " |  get_children(self)\n",
      " |      Return a list of the child `.Artist`\\s of this `.Artist`.\n",
      " |  \n",
      " |  get_clip_box(self)\n",
      " |      Return the clipbox.\n",
      " |  \n",
      " |  get_clip_on(self)\n",
      " |      Return whether the artist uses clipping.\n",
      " |  \n",
      " |  get_clip_path(self)\n",
      " |      Return the clip path.\n",
      " |  \n",
      " |  get_contains(self)\n",
      " |      Return the custom contains function of the artist if set, or *None*.\n",
      " |      \n",
      " |      See Also\n",
      " |      --------\n",
      " |      set_contains\n",
      " |  \n",
      " |  get_cursor_data(self, event)\n",
      " |      Return the cursor data for a given event.\n",
      " |      \n",
      " |      .. note::\n",
      " |          This method is intended to be overridden by artist subclasses.\n",
      " |          As an end-user of Matplotlib you will most likely not call this\n",
      " |          method yourself.\n",
      " |      \n",
      " |      Cursor data can be used by Artists to provide additional context\n",
      " |      information for a given event. The default implementation just returns\n",
      " |      *None*.\n",
      " |      \n",
      " |      Subclasses can override the method and return arbitrary data. However,\n",
      " |      when doing so, they must ensure that `.format_cursor_data` can convert\n",
      " |      the data to a string representation.\n",
      " |      \n",
      " |      The only current use case is displaying the z-value of an `.AxesImage`\n",
      " |      in the status bar of a plot window, while moving the mouse.\n",
      " |      \n",
      " |      Parameters\n",
      " |      ----------\n",
      " |      event : `matplotlib.backend_bases.MouseEvent`\n",
      " |      \n",
      " |      See Also\n",
      " |      --------\n",
      " |      format_cursor_data\n",
      " |  \n",
      " |  get_figure(self)\n",
      " |      Return the `.Figure` instance the artist belongs to.\n",
      " |  \n",
      " |  get_gid(self)\n",
      " |      Return the group id.\n",
      " |  \n",
      " |  get_in_layout(self)\n",
      " |      Return boolean flag, ``True`` if artist is included in layout\n",
      " |      calculations.\n",
      " |      \n",
      " |      E.g. :doc:`/tutorials/intermediate/constrainedlayout_guide`,\n",
      " |      `.Figure.tight_layout()`, and\n",
      " |      ``fig.savefig(fname, bbox_inches='tight')``.\n",
      " |  \n",
      " |  get_label(self)\n",
      " |      Return the label used for this artist in the legend.\n",
      " |  \n",
      " |  get_path_effects(self)\n",
      " |  \n",
      " |  get_picker(self)\n",
      " |      Return the picking behavior of the artist.\n",
      " |      \n",
      " |      The possible values are described in `.set_picker`.\n",
      " |      \n",
      " |      See Also\n",
      " |      --------\n",
      " |      set_picker, pickable, pick\n",
      " |  \n",
      " |  get_rasterized(self)\n",
      " |      Return whether the artist is to be rasterized.\n",
      " |  \n",
      " |  get_sketch_params(self)\n",
      " |      Returns the sketch parameters for the artist.\n",
      " |      \n",
      " |      Returns\n",
      " |      -------\n",
      " |      sketch_params : tuple or None\n",
      " |      \n",
      " |          A 3-tuple with the following elements:\n",
      " |      \n",
      " |          - *scale*: The amplitude of the wiggle perpendicular to the\n",
      " |            source line.\n",
      " |          - *length*: The length of the wiggle along the line.\n",
      " |          - *randomness*: The scale factor by which the length is\n",
      " |            shrunken or expanded.\n",
      " |      \n",
      " |          Returns *None* if no sketch parameters were set.\n",
      " |  \n",
      " |  get_snap(self)\n",
      " |      Returns the snap setting.\n",
      " |      \n",
      " |      See `.set_snap` for details.\n",
      " |  \n",
      " |  get_tightbbox(self, renderer)\n",
      " |      Like `Artist.get_window_extent`, but includes any clipping.\n",
      " |      \n",
      " |      Parameters\n",
      " |      ----------\n",
      " |      renderer : `.RendererBase` instance\n",
      " |          renderer that will be used to draw the figures (i.e.\n",
      " |          ``fig.canvas.get_renderer()``)\n",
      " |      \n",
      " |      Returns\n",
      " |      -------\n",
      " |      bbox : `.BBox`\n",
      " |          The enclosing bounding box (in figure pixel co-ordinates).\n",
      " |  \n",
      " |  get_transformed_clip_path_and_affine(self)\n",
      " |      Return the clip path with the non-affine part of its\n",
      " |      transformation applied, and the remaining affine part of its\n",
      " |      transformation.\n",
      " |  \n",
      " |  get_url(self)\n",
      " |      Return the url.\n",
      " |  \n",
      " |  get_visible(self)\n",
      " |      Return the visibility.\n",
      " |  \n",
      " |  get_zorder(self)\n",
      " |      Return the artist's zorder.\n",
      " |  \n",
      " |  have_units(self)\n",
      " |      Return *True* if units are set on the *x* or *y* axes.\n",
      " |  \n",
      " |  is_transform_set(self)\n",
      " |      Return whether the Artist has an explicitly set transform.\n",
      " |      \n",
      " |      This is *True* after `.set_transform` has been called.\n",
      " |  \n",
      " |  pchanged(self)\n",
      " |      Call all of the registered callbacks.\n",
      " |      \n",
      " |      This function is triggered internally when a property is changed.\n",
      " |      \n",
      " |      See Also\n",
      " |      --------\n",
      " |      add_callback\n",
      " |      remove_callback\n",
      " |  \n",
      " |  pick(self, mouseevent)\n",
      " |      Process a pick event.\n",
      " |      \n",
      " |      Each child artist will fire a pick event if *mouseevent* is over\n",
      " |      the artist and the artist has picker set.\n",
      " |      \n",
      " |      See Also\n",
      " |      --------\n",
      " |      set_picker, get_picker, pickable\n",
      " |  \n",
      " |  pickable(self)\n",
      " |      Return whether the artist is pickable.\n",
      " |      \n",
      " |      See Also\n",
      " |      --------\n",
      " |      set_picker, get_picker, pick\n",
      " |  \n",
      " |  properties(self)\n",
      " |      Return a dictionary of all the properties of the artist.\n",
      " |  \n",
      " |  remove(self)\n",
      " |      Remove the artist from the figure if possible.\n",
      " |      \n",
      " |      The effect will not be visible until the figure is redrawn, e.g.,\n",
      " |      with `.FigureCanvasBase.draw_idle`.  Call `~.axes.Axes.relim` to\n",
      " |      update the axes limits if desired.\n",
      " |      \n",
      " |      Note: `~.axes.Axes.relim` will not see collections even if the\n",
      " |      collection was added to the axes with *autolim* = True.\n",
      " |      \n",
      " |      Note: there is no support for removing the artist's legend entry.\n",
      " |  \n",
      " |  remove_callback(self, oid)\n",
      " |      Remove a callback based on its observer id.\n",
      " |      \n",
      " |      See Also\n",
      " |      --------\n",
      " |      add_callback\n",
      " |  \n",
      " |  set(self, **kwargs)\n",
      " |      A property batch setter.  Pass *kwargs* to set properties.\n",
      " |  \n",
      " |  set_agg_filter(self, filter_func)\n",
      " |      Set the agg filter.\n",
      " |      \n",
      " |      Parameters\n",
      " |      ----------\n",
      " |      filter_func : callable\n",
      " |          A filter function, which takes a (m, n, 3) float array and a dpi\n",
      " |          value, and returns a (m, n, 3) array.\n",
      " |      \n",
      " |          .. ACCEPTS: a filter function, which takes a (m, n, 3) float array\n",
      " |              and a dpi value, and returns a (m, n, 3) array\n",
      " |  \n",
      " |  set_animated(self, b)\n",
      " |      Set the artist's animation state.\n",
      " |      \n",
      " |      Parameters\n",
      " |      ----------\n",
      " |      b : bool\n",
      " |  \n",
      " |  set_clip_box(self, clipbox)\n",
      " |      Set the artist's clip `.Bbox`.\n",
      " |      \n",
      " |      Parameters\n",
      " |      ----------\n",
      " |      clipbox : `.Bbox`\n",
      " |  \n",
      " |  set_clip_on(self, b)\n",
      " |      Set whether the artist uses clipping.\n",
      " |      \n",
      " |      When False artists will be visible out side of the axes which\n",
      " |      can lead to unexpected results.\n",
      " |      \n",
      " |      Parameters\n",
      " |      ----------\n",
      " |      b : bool\n",
      " |  \n",
      " |  set_clip_path(self, path, transform=None)\n",
      " |      Set the artist's clip path, which may be:\n",
      " |      \n",
      " |      - a :class:`~matplotlib.patches.Patch` (or subclass) instance; or\n",
      " |      - a :class:`~matplotlib.path.Path` instance, in which case a\n",
      " |        :class:`~matplotlib.transforms.Transform` instance, which will be\n",
      " |        applied to the path before using it for clipping, must be provided;\n",
      " |        or\n",
      " |      - ``None``, to remove a previously set clipping path.\n",
      " |      \n",
      " |      For efficiency, if the path happens to be an axis-aligned rectangle,\n",
      " |      this method will set the clipping box to the corresponding rectangle\n",
      " |      and set the clipping path to ``None``.\n",
      " |      \n",
      " |      ACCEPTS: [(`~matplotlib.path.Path`, `.Transform`) | `.Patch` | None]\n",
      " |  \n",
      " |  set_contains(self, picker)\n",
      " |      Define a custom contains test for the artist.\n",
      " |      \n",
      " |      The provided callable replaces the default `.contains` method\n",
      " |      of the artist.\n",
      " |      \n",
      " |      Parameters\n",
      " |      ----------\n",
      " |      picker : callable\n",
      " |          A custom picker function to evaluate if an event is within the\n",
      " |          artist. The function must have the signature::\n",
      " |      \n",
      " |              def contains(artist: Artist, event: MouseEvent) -> bool, dict\n",
      " |      \n",
      " |          that returns:\n",
      " |      \n",
      " |          - a bool indicating if the event is within the artist\n",
      " |          - a dict of additional information. The dict should at least\n",
      " |            return the same information as the default ``contains()``\n",
      " |            implementation of the respective artist, but may provide\n",
      " |            additional information.\n",
      " |  \n",
      " |  set_figure(self, fig)\n",
      " |      Set the `.Figure` instance the artist belongs to.\n",
      " |      \n",
      " |      Parameters\n",
      " |      ----------\n",
      " |      fig : `.Figure`\n",
      " |  \n",
      " |  set_gid(self, gid)\n",
      " |      Set the (group) id for the artist.\n",
      " |      \n",
      " |      Parameters\n",
      " |      ----------\n",
      " |      gid : str\n",
      " |  \n",
      " |  set_in_layout(self, in_layout)\n",
      " |      Set if artist is to be included in layout calculations,\n",
      " |      E.g. :doc:`/tutorials/intermediate/constrainedlayout_guide`,\n",
      " |      `.Figure.tight_layout()`, and\n",
      " |      ``fig.savefig(fname, bbox_inches='tight')``.\n",
      " |      \n",
      " |      Parameters\n",
      " |      ----------\n",
      " |      in_layout : bool\n",
      " |  \n",
      " |  set_label(self, s)\n",
      " |      Set a label that will be displayed in the legend.\n",
      " |      \n",
      " |      Parameters\n",
      " |      ----------\n",
      " |      s : object\n",
      " |          *s* will be converted to a string by calling `str`.\n",
      " |  \n",
      " |  set_path_effects(self, path_effects)\n",
      " |      Set the path effects.\n",
      " |      \n",
      " |      Parameters\n",
      " |      ----------\n",
      " |      path_effects : `.AbstractPathEffect`\n",
      " |  \n",
      " |  set_picker(self, picker)\n",
      " |      Define the picking behavior of the artist.\n",
      " |      \n",
      " |      Parameters\n",
      " |      ----------\n",
      " |      picker : None or bool or float or callable\n",
      " |          This can be one of the following:\n",
      " |      \n",
      " |          - *None*: Picking is disabled for this artist (default).\n",
      " |      \n",
      " |          - A boolean: If *True* then picking will be enabled and the\n",
      " |            artist will fire a pick event if the mouse event is over\n",
      " |            the artist.\n",
      " |      \n",
      " |          - A float: If picker is a number it is interpreted as an\n",
      " |            epsilon tolerance in points and the artist will fire\n",
      " |            off an event if it's data is within epsilon of the mouse\n",
      " |            event.  For some artists like lines and patch collections,\n",
      " |            the artist may provide additional data to the pick event\n",
      " |            that is generated, e.g., the indices of the data within\n",
      " |            epsilon of the pick event\n",
      " |      \n",
      " |          - A function: If picker is callable, it is a user supplied\n",
      " |            function which determines whether the artist is hit by the\n",
      " |            mouse event::\n",
      " |      \n",
      " |              hit, props = picker(artist, mouseevent)\n",
      " |      \n",
      " |            to determine the hit test.  if the mouse event is over the\n",
      " |            artist, return *hit=True* and props is a dictionary of\n",
      " |            properties you want added to the PickEvent attributes.\n",
      " |  \n",
      " |  set_rasterized(self, rasterized)\n",
      " |      Force rasterized (bitmap) drawing in vector backend output.\n",
      " |      \n",
      " |      Defaults to None, which implies the backend's default behavior.\n",
      " |      \n",
      " |      Parameters\n",
      " |      ----------\n",
      " |      rasterized : bool or None\n",
      " |  \n",
      " |  set_sketch_params(self, scale=None, length=None, randomness=None)\n",
      " |      Sets the sketch parameters.\n",
      " |      \n",
      " |      Parameters\n",
      " |      ----------\n",
      " |      \n",
      " |      scale : float, optional\n",
      " |          The amplitude of the wiggle perpendicular to the source\n",
      " |          line, in pixels.  If scale is `None`, or not provided, no\n",
      " |          sketch filter will be provided.\n",
      " |      \n",
      " |      length : float, optional\n",
      " |           The length of the wiggle along the line, in pixels\n",
      " |           (default 128.0)\n",
      " |      \n",
      " |      randomness : float, optional\n",
      " |          The scale factor by which the length is shrunken or\n",
      " |          expanded (default 16.0)\n",
      " |      \n",
      " |          .. ACCEPTS: (scale: float, length: float, randomness: float)\n",
      " |  \n",
      " |  set_snap(self, snap)\n",
      " |      Set the snapping behavior.\n",
      " |      \n",
      " |      Snapping aligns positions with the pixel grid, which results in\n",
      " |      clearer images. For example, if a black line of 1px width was\n",
      " |      defined at a position in between two pixels, the resulting image\n",
      " |      would contain the interpolated value of that line in the pixel grid,\n",
      " |      which would be a grey value on both adjacent pixel positions. In\n",
      " |      contrast, snapping will move the line to the nearest integer pixel\n",
      " |      value, so that the resulting image will really contain a 1px wide\n",
      " |      black line.\n",
      " |      \n",
      " |      Snapping is currently only supported by the Agg and MacOSX backends.\n",
      " |      \n",
      " |      Parameters\n",
      " |      ----------\n",
      " |      snap : bool or None\n",
      " |          Possible values:\n",
      " |      \n",
      " |          - *True*: Snap vertices to the nearest pixel center.\n",
      " |          - *False*: Do not modify vertex positions.\n",
      " |          - *None*: (auto) If the path contains only rectilinear line\n",
      " |            segments, round to the nearest pixel center.\n",
      " |  \n",
      " |  set_transform(self, t)\n",
      " |      Set the artist transform.\n",
      " |      \n",
      " |      Parameters\n",
      " |      ----------\n",
      " |      t : `.Transform`\n",
      " |  \n",
      " |  set_url(self, url)\n",
      " |      Set the url for the artist.\n",
      " |      \n",
      " |      Parameters\n",
      " |      ----------\n",
      " |      url : str\n",
      " |  \n",
      " |  set_visible(self, b)\n",
      " |      Set the artist's visibility.\n",
      " |      \n",
      " |      Parameters\n",
      " |      ----------\n",
      " |      b : bool\n",
      " |  \n",
      " |  set_zorder(self, level)\n",
      " |      Set the zorder for the artist.  Artists with lower zorder\n",
      " |      values are drawn first.\n",
      " |      \n",
      " |      Parameters\n",
      " |      ----------\n",
      " |      level : float\n",
      " |  \n",
      " |  update(self, props)\n",
      " |      Update this artist's properties from the dictionary *props*.\n",
      " |  \n",
      " |  ----------------------------------------------------------------------\n",
      " |  Data descriptors inherited from matplotlib.artist.Artist:\n",
      " |  \n",
      " |  __dict__\n",
      " |      dictionary for instance variables (if defined)\n",
      " |  \n",
      " |  __weakref__\n",
      " |      list of weak references to the object (if defined)\n",
      " |  \n",
      " |  aname\n",
      " |  \n",
      " |  axes\n",
      " |      The `~.axes.Axes` instance the artist resides in, or *None*.\n",
      " |  \n",
      " |  mouseover\n",
      " |  \n",
      " |  stale\n",
      " |      Whether the artist is 'stale' and needs to be re-drawn for the output\n",
      " |      to match the internal state of the artist.\n",
      " |  \n",
      " |  sticky_edges\n",
      " |      ``x`` and ``y`` sticky edge lists for autoscaling.\n",
      " |      \n",
      " |      When performing autoscaling, if a data limit coincides with a value in\n",
      " |      the corresponding sticky_edges list, then no margin will be added--the\n",
      " |      view limit \"sticks\" to the edge. A typical use case is histograms,\n",
      " |      where one usually expects no margin on the bottom edge (0) of the\n",
      " |      histogram.\n",
      " |      \n",
      " |      This attribute cannot be assigned to; however, the ``x`` and ``y``\n",
      " |      lists can be modified in place as needed.\n",
      " |      \n",
      " |      Examples\n",
      " |      --------\n",
      " |      \n",
      " |      >>> artist.sticky_edges.x[:] = (xmin, xmax)\n",
      " |      >>> artist.sticky_edges.y[:] = (ymin, ymax)\n",
      "\n"
     ]
    }
   ],
   "source": [
    "help(plt.Rectangle)"
   ]
  },
  {
   "cell_type": "code",
   "execution_count": 29,
   "metadata": {},
   "outputs": [
    {
     "data": {
      "text/plain": [
       "15"
      ]
     },
     "execution_count": 29,
     "metadata": {},
     "output_type": "execute_result"
    }
   ],
   "source": [
    "len(cat_cols)"
   ]
  },
  {
   "cell_type": "code",
   "execution_count": 30,
   "metadata": {},
   "outputs": [
    {
     "data": {
      "text/plain": [
       "Ord_id                  5506\n",
       "Prod_id                   17\n",
       "Ship_id                 7701\n",
       "Cust_id                 1832\n",
       "Product_Category           3\n",
       "Product_Sub_Category      17\n",
       "Order_Date              1418\n",
       "Order_Priority             5\n",
       "Customer_Name            795\n",
       "Province                  13\n",
       "Region                     8\n",
       "Customer_Segment           4\n",
       "Ship_Mode                  3\n",
       "Ship_Date               1450\n",
       "Duration                 170\n",
       "dtype: int64"
      ]
     },
     "execution_count": 30,
     "metadata": {},
     "output_type": "execute_result"
    }
   ],
   "source": [
    "data[cat_cols].nunique()"
   ]
  },
  {
   "cell_type": "code",
   "execution_count": null,
   "metadata": {},
   "outputs": [],
   "source": [
    "plt.figure(figsize=(5,35))\n",
    "plt.subplots_adjust(hspace=0.5)\n",
    "for i in range(len(cat_cols)):\n",
    "    plt.subplot(5,3,i+1)\n",
    "    y = data[cat_cols[i]].value_counts()\n",
    "    x = y.index\n",
    "    plt.bar(x,y)\n",
    "    plt.title(cat_cols[i])\n",
    "   "
   ]
  },
  {
   "cell_type": "code",
   "execution_count": null,
   "metadata": {},
   "outputs": [],
   "source": [
    "Bivariate Analysis\n",
    "- scatter plot"
   ]
  },
  {
   "cell_type": "code",
   "execution_count": null,
   "metadata": {},
   "outputs": [],
   "source": [
    "plt.scatter(data['Product_Base_Margin'],\\\n",
    "            data['Order_Quantity'])"
   ]
  },
  {
   "cell_type": "code",
   "execution_count": null,
   "metadata": {},
   "outputs": [],
   "source": [
    "plt.scatter(data['Profit'],\\\n",
    "            data['Order_Quantity'])"
   ]
  },
  {
   "cell_type": "markdown",
   "metadata": {},
   "source": [
    "Plots using pandas DataFrame"
   ]
  },
  {
   "cell_type": "code",
   "execution_count": null,
   "metadata": {},
   "outputs": [],
   "source": [
    "data.hist()"
   ]
  },
  {
   "cell_type": "code",
   "execution_count": null,
   "metadata": {},
   "outputs": [],
   "source": [
    "data.Sales.hist()"
   ]
  },
  {
   "cell_type": "code",
   "execution_count": null,
   "metadata": {},
   "outputs": [],
   "source": [
    "data.boxplot()"
   ]
  },
  {
   "cell_type": "code",
   "execution_count": null,
   "metadata": {
    "scrolled": true
   },
   "outputs": [],
   "source": [
    "help(plt.pie)"
   ]
  },
  {
   "cell_type": "code",
   "execution_count": null,
   "metadata": {},
   "outputs": [],
   "source": [
    "order_cat_info = data['Order_Priority'].value_counts()/\\\n",
    "            data['Order_Priority'].shape[0]"
   ]
  },
  {
   "cell_type": "code",
   "execution_count": null,
   "metadata": {},
   "outputs": [],
   "source": [
    "order_cat_info"
   ]
  },
  {
   "cell_type": "code",
   "execution_count": null,
   "metadata": {},
   "outputs": [],
   "source": [
    "plt.pie(order_cat_info,labels= order_cat_info.index)"
   ]
  },
  {
   "cell_type": "code",
   "execution_count": null,
   "metadata": {},
   "outputs": [],
   "source": [
    "plt.pie(order_cat_info,\\\n",
    "        explode= (0.1,0,0,0.2,0),\n",
    "        labels= order_cat_info.index)"
   ]
  },
  {
   "cell_type": "code",
   "execution_count": null,
   "metadata": {},
   "outputs": [],
   "source": []
  },
  {
   "cell_type": "code",
   "execution_count": null,
   "metadata": {},
   "outputs": [],
   "source": []
  }
 ],
 "metadata": {
  "kernelspec": {
   "display_name": "Python 3",
   "language": "python",
   "name": "python3"
  },
  "language_info": {
   "codemirror_mode": {
    "name": "ipython",
    "version": 3
   },
   "file_extension": ".py",
   "mimetype": "text/x-python",
   "name": "python",
   "nbconvert_exporter": "python",
   "pygments_lexer": "ipython3",
   "version": "3.7.4"
  }
 },
 "nbformat": 4,
 "nbformat_minor": 2
}
